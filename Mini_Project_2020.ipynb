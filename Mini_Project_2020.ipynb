{
  "nbformat": 4,
  "nbformat_minor": 0,
  "metadata": {
    "colab": {
      "name": "Mini Project-2020.ipynb",
      "provenance": [],
      "mount_file_id": "13MFC44MVtIdpp-EG5VMO5vkf2F0bCzPd",
      "authorship_tag": "ABX9TyM7+IFtedleCFCY623hU2Bb",
      "include_colab_link": true
    },
    "kernelspec": {
      "name": "python3",
      "display_name": "Python 3"
    }
  },
  "cells": [
    {
      "cell_type": "markdown",
      "metadata": {
        "id": "view-in-github",
        "colab_type": "text"
      },
      "source": [
        "<a href=\"https://colab.research.google.com/github/Bidisha28/Mini-Project-ML/blob/master/Mini_Project_2020.ipynb\" target=\"_parent\"><img src=\"https://colab.research.google.com/assets/colab-badge.svg\" alt=\"Open In Colab\"/></a>"
      ]
    },
    {
      "cell_type": "code",
      "metadata": {
        "id": "B1UhsOHt41XJ",
        "colab_type": "code",
        "colab": {
          "base_uri": "https://localhost:8080/",
          "height": 106
        },
        "outputId": "90858ec1-8130-4c66-aeab-53b89c875e2c"
      },
      "source": [
        "! pip install bing-image-downloader"
      ],
      "execution_count": 1,
      "outputs": [
        {
          "output_type": "stream",
          "text": [
            "Collecting bing-image-downloader\n",
            "  Downloading https://files.pythonhosted.org/packages/0d/bf/537a61030b84ae4cd5022d5c7b014fd9bc3ce7c02358919153a6658a61d3/bing_image_downloader-1.0.4-py3-none-any.whl\n",
            "Installing collected packages: bing-image-downloader\n",
            "Successfully installed bing-image-downloader-1.0.4\n"
          ],
          "name": "stdout"
        }
      ]
    },
    {
      "cell_type": "code",
      "metadata": {
        "id": "diZbd6qz5RfA",
        "colab_type": "code",
        "colab": {
          "base_uri": "https://localhost:8080/",
          "height": 210
        },
        "outputId": "d29cb85e-013f-4902-9e9a-cdbb577a665b"
      },
      "source": [
        "! pip install plotly==4.5.2"
      ],
      "execution_count": 2,
      "outputs": [
        {
          "output_type": "stream",
          "text": [
            "Collecting plotly==4.5.2\n",
            "\u001b[?25l  Downloading https://files.pythonhosted.org/packages/a9/12/7d795064f87d1070975e55daa443ff5e5ee7eb6c8a9eaf41f3d6a5f91a91/plotly-4.5.2-py2.py3-none-any.whl (7.1MB)\n",
            "\u001b[K     |████████████████████████████████| 7.1MB 2.5MB/s \n",
            "\u001b[?25hRequirement already satisfied: six in /usr/local/lib/python3.6/dist-packages (from plotly==4.5.2) (1.15.0)\n",
            "Requirement already satisfied: retrying>=1.3.3 in /usr/local/lib/python3.6/dist-packages (from plotly==4.5.2) (1.3.3)\n",
            "Installing collected packages: plotly\n",
            "  Found existing installation: plotly 4.4.1\n",
            "    Uninstalling plotly-4.4.1:\n",
            "      Successfully uninstalled plotly-4.4.1\n",
            "Successfully installed plotly-4.5.2\n"
          ],
          "name": "stdout"
        }
      ]
    },
    {
      "cell_type": "code",
      "metadata": {
        "id": "bnfaHG4s5UQA",
        "colab_type": "code",
        "colab": {
          "base_uri": "https://localhost:8080/",
          "height": 34
        },
        "outputId": "7c8af4c6-df53-4612-af83-49196b84be66"
      },
      "source": [
        "cd /content/drive/My Drive/ML-Mini Project-August-2020"
      ],
      "execution_count": 3,
      "outputs": [
        {
          "output_type": "stream",
          "text": [
            "/content/drive/My Drive/ML-Mini Project-August-2020\n"
          ],
          "name": "stdout"
        }
      ]
    },
    {
      "cell_type": "code",
      "metadata": {
        "id": "nXRdXNrq5oNx",
        "colab_type": "code",
        "colab": {}
      },
      "source": [
        "!mkdir Images"
      ],
      "execution_count": 4,
      "outputs": []
    },
    {
      "cell_type": "code",
      "metadata": {
        "id": "sOCOvmSK5y38",
        "colab_type": "code",
        "colab": {
          "base_uri": "https://localhost:8080/",
          "height": 34
        },
        "outputId": "162ca5b1-c591-4d08-ec9d-b725787a34fb"
      },
      "source": [
        "cd Images"
      ],
      "execution_count": 6,
      "outputs": [
        {
          "output_type": "stream",
          "text": [
            "/content/drive/My Drive/ML-Mini Project-August-2020/Images\n"
          ],
          "name": "stdout"
        }
      ]
    },
    {
      "cell_type": "code",
      "metadata": {
        "id": "EAZ6G9cB58_e",
        "colab_type": "code",
        "colab": {
          "base_uri": "https://localhost:8080/",
          "height": 1000
        },
        "outputId": "edb04f97-57cf-4a31-d78c-77a11fbeaf29"
      },
      "source": [
        "from bing_image_downloader import downloader\n",
        "downloader.download('Lemon Fruit',limit = 30,output_dir = 'pictures')"
      ],
      "execution_count": 7,
      "outputs": [
        {
          "output_type": "stream",
          "text": [
            "\n",
            "\n",
            "[!!]Indexing page: 1\n",
            "\n",
            "[%] Indexed 30 Images on Page 1.\n",
            "\n",
            "===============================================\n",
            "\n",
            "[%] Downloading Image #1 from http://www.pam-exotic.com/wp-content/uploads/2015/10/24822300_xl.jpg\n",
            "[%] File Downloaded !\n",
            "\n",
            "[%] Downloading Image #2 from http://images6.fanpop.com/image/photos/34900000/Lemon-fruit-34914820-1000-1000.jpg\n",
            "[%] File Downloaded !\n",
            "\n",
            "[%] Downloading Image #3 from https://www.waimeanurseries.co.nz/assets/our-products/fruit-trees/citrus/lemon-lemonade/Lemonade-Dwarf.jpg\n",
            "[%] File Downloaded !\n",
            "\n",
            "[%] Downloading Image #4 from http://www.planetorganic.com/images/products/large/1842.jpg\n",
            "[%] File Downloaded !\n",
            "\n",
            "[%] Downloading Image #5 from https://iheartsomething.files.wordpress.com/2013/05/lemon1.jpg\n",
            "[%] File Downloaded !\n",
            "\n",
            "[%] Downloading Image #6 from http://images6.fanpop.com/image/photos/34900000/Lemon-fruit-34914817-1000-833.jpg\n",
            "[%] File Downloaded !\n",
            "\n",
            "[%] Downloading Image #7 from http://images6.fanpop.com/image/photos/34900000/Lemon-fruit-34914824-3000-2000.jpg\n",
            "[%] File Downloaded !\n",
            "\n",
            "[%] Downloading Image #8 from http://cdn-img.health.com/sites/default/files/styles/medium_16_9/public/1483718705/GettyImages-163120954_0_0.jpg?itok=BLDo5-qI\n",
            "[%] File Downloaded !\n",
            "\n",
            "[%] Downloading Image #9 from https://cdn.nippys.com.au/nippys-website/site/wp-content/uploads/2016/12/13113305/Fruit_Lemons.jpg\n",
            "[%] File Downloaded !\n",
            "\n",
            "[%] Downloading Image #10 from https://media.buzzle.com/media/images-en/gallery/fruits/1200-127029705-lemon-fruit.jpg\n",
            "[%] File Downloaded !\n",
            "\n",
            "[%] Downloading Image #11 from https://images.homedepot-static.com/productImages/c6b87606-9631-4f2b-ad36-f087c75db5ce/svn/bloomsz-fruit-trees-plants-00416-64_1000.jpg\n",
            "[%] File Downloaded !\n",
            "\n",
            "[%] Downloading Image #12 from https://4.bp.blogspot.com/-6ND6BQdsNvg/UZusyvCDppI/AAAAAAAAAIg/GaVf1N858jE/s1600/march-lemon-fruits-desktop-free-wallpaper.jpg\n",
            "[%] File Downloaded !\n",
            "\n",
            "[%] Downloading Image #13 from https://media.istockphoto.com/photos/lemon-fruit-with-half-and-leaves-isolated-on-white-picture-id466175634?k=6&amp;m=466175634&amp;s=612x612&amp;w=0&amp;h=x2vP2KlnmjYmSuXXkjs4bGsyj8B_MmFXH_AuF2Y6TC0=\n",
            "[%] File Downloaded !\n",
            "\n",
            "[%] Downloading Image #14 from https://media.buzzle.com/media/images-en/gallery/vegetables/1200-167622042-lemons.jpg\n",
            "[%] File Downloaded !\n",
            "\n",
            "[%] Downloading Image #15 from https://smartklean.files.wordpress.com/2014/02/lemon-fruit-34914821-1024-828.png\n",
            "[%] File Downloaded !\n",
            "\n",
            "[%] Downloading Image #16 from https://www.producemarketguide.com/sites/default/files/Commodities.tar/Commodities/lemon_commodity-page.png\n",
            "[!] Issue getting: https://www.producemarketguide.com/sites/default/files/Commodities.tar/Commodities/lemon_commodity-page.png\n",
            "[!] Error:: HTTP Error 403: Forbidden\n",
            "[%] Downloading Image #16 from https://thevedix.files.wordpress.com/2014/10/dotvital-com-citrus-fresh-fruit-slices.jpg\n",
            "[%] File Downloaded !\n",
            "\n",
            "[%] Downloading Image #17 from http://i.ebayimg.com/images/i/160631005468-0-1/s-l1000.jpg\n",
            "[%] File Downloaded !\n",
            "\n",
            "[%] Downloading Image #18 from https://golden-fruits.com/wp-content/uploads/2018/02/lemon-xrysikos-500x500.jpg\n",
            "[%] File Downloaded !\n",
            "\n",
            "[%] Downloading Image #19 from https://media.fromthegrapevine.com/assets/images/2017/8/citrus-assorted.jpg.824x0_q71_crop-scale.jpg\n",
            "[%] File Downloaded !\n",
            "\n",
            "[%] Downloading Image #20 from http://www.pngpix.com/wp-content/uploads/2016/03/Lemon-Fruit-with-Leaf-PNG-image.png\n",
            "[%] File Downloaded !\n",
            "\n",
            "[%] Downloading Image #21 from https://lemonconcentrate.com/wp-content/uploads/2017/08/lemon-fruit-products-manufacturer-and-supplier-e1513239958412.jpg\n",
            "[%] File Downloaded !\n",
            "\n",
            "[%] Downloading Image #22 from https://cdn0.wideopeneats.com/wp-content/uploads/2018/02/AdobeStock_139986300.jpeg\n",
            "[%] File Downloaded !\n",
            "\n",
            "[%] Downloading Image #23 from http://3.bp.blogspot.com/-w-6vGX60aNE/TkdaUlf0iFI/AAAAAAAAAHo/O7dMdPPRnh4/s1600/Citrus+Fruits.jpg\n",
            "[%] File Downloaded !\n",
            "\n",
            "[%] Downloading Image #24 from http://www.agroindi.com/wp-content/uploads/fruits/lemon-small.jpg\n",
            "[Error]Invalid image, not saving http://www.agroindi.com/wp-content/uploads/fruits/lemon-small.jpg\n",
            "\n",
            "[!] Issue getting: http://www.agroindi.com/wp-content/uploads/fruits/lemon-small.jpg\n",
            "[!] Error:: No active exception to reraise\n",
            "[%] Downloading Image #24 from https://www.waimeanurseries.co.nz/assets/our-products/fruit-trees/citrus/lemon-yen-ben/Lemon-Yen-Ben-Dwarf.jpg\n",
            "[%] File Downloaded !\n",
            "\n",
            "[%] Downloading Image #25 from http://hdwallpaperfun.com/wp-content/uploads/2014/10/Lemon-Fruit-Free-HD-Widescreen-Wallpapers-723637.jpg\n",
            "[%] File Downloaded !\n",
            "\n",
            "[%] Downloading Image #26 from https://cmkt-image-prd.global.ssl.fastly.net/0.1.0/ps/353992/1360/1218/m1/fpnw/wm1/mfnxlrthefrmtquhgbj4isgoczcwrlwzyroirwfbpjmkjs2zrc1zcnmi7hhpagsi-.jpg?1423931287&amp;s=2a4a4ba5426d01eb54615038a9764bab\n",
            "[!] Issue getting: https://cmkt-image-prd.global.ssl.fastly.net/0.1.0/ps/353992/1360/1218/m1/fpnw/wm1/mfnxlrthefrmtquhgbj4isgoczcwrlwzyroirwfbpjmkjs2zrc1zcnmi7hhpagsi-.jpg?1423931287&amp;s=2a4a4ba5426d01eb54615038a9764bab\n",
            "[!] Error:: HTTP Error 403: Forbidden\n",
            "[%] Downloading Image #26 from http://images.clipartpanda.com/lemon-clipart-lemon-png-images-free-fruit-png-pictures.png\n",
            "[%] File Downloaded !\n",
            "\n",
            "[%] Downloading Image #27 from http://i.ebayimg.com/images/i/191085769118-0-1/s-l1000.jpg\n",
            "[%] File Downloaded !\n",
            "\n",
            "\n",
            "\n",
            "[!!]Indexing page: 2\n",
            "\n",
            "[%] Indexed 35 Images on Page 2.\n",
            "\n",
            "===============================================\n",
            "\n",
            "[%] Downloading Image #28 from http://www.pam-exotic.com/wp-content/uploads/2015/10/24822300_xl.jpg\n",
            "[%] File Downloaded !\n",
            "\n",
            "[%] Downloading Image #29 from http://images6.fanpop.com/image/photos/34900000/Lemon-fruit-34914820-1000-1000.jpg\n",
            "[%] File Downloaded !\n",
            "\n",
            "[%] Downloading Image #30 from https://www.waimeanurseries.co.nz/assets/our-products/fruit-trees/citrus/lemon-lemonade/Lemonade-Dwarf.jpg\n",
            "[%] File Downloaded !\n",
            "\n",
            "\n",
            "\n",
            "[%] Done. Downloaded 30 images.\n",
            "\n",
            "===============================================\n",
            "\n"
          ],
          "name": "stdout"
        }
      ]
    },
    {
      "cell_type": "code",
      "metadata": {
        "id": "cvZWpS-e6rQo",
        "colab_type": "code",
        "colab": {
          "base_uri": "https://localhost:8080/",
          "height": 1000
        },
        "outputId": "60326bf4-f71d-4d3b-b4d8-b08bc294ae1d"
      },
      "source": [
        "from bing_image_downloader import downloader\n",
        "downloader.download('Kiwi Fruit',limit = 30,output_dir = 'pictures')"
      ],
      "execution_count": 8,
      "outputs": [
        {
          "output_type": "stream",
          "text": [
            "\n",
            "\n",
            "[!!]Indexing page: 1\n",
            "\n",
            "[%] Indexed 30 Images on Page 1.\n",
            "\n",
            "===============================================\n",
            "\n",
            "[%] Downloading Image #1 from https://health.trythis.co/wp-content/uploads/sites/2/2017/11/Kiwi-Fruit3.jpg\n",
            "[%] File Downloaded !\n",
            "\n",
            "[%] Downloading Image #2 from https://fodmap-publicsite-us-east-2.s3.amazonaws.com/production/media/images/kiwi_fruit.original.png\n",
            "[%] File Downloaded !\n",
            "\n",
            "[%] Downloading Image #3 from https://powerfoodz.files.wordpress.com/2013/08/15433078_xxl1.jpg\n",
            "[%] File Downloaded !\n",
            "\n",
            "[%] Downloading Image #4 from http://www.onlyfoods.net/wp-content/uploads/2012/06/Kiwi-Fruit.jpg\n",
            "[%] File Downloaded !\n",
            "\n",
            "[%] Downloading Image #5 from http://cdn1.medicalnewstoday.com/content/images/articles/271/271232/sliced-kiwi-fruit.jpg\n",
            "[!] Issue getting: http://cdn1.medicalnewstoday.com/content/images/articles/271/271232/sliced-kiwi-fruit.jpg\n",
            "[!] Error:: <urlopen error [Errno -2] Name or service not known>\n",
            "[%] Downloading Image #5 from https://eatwellcachecounty.files.wordpress.com/2015/02/kiwis-close-up.jpg\n",
            "[%] File Downloaded !\n",
            "\n",
            "[%] Downloading Image #6 from https://www.amoils.com/health-blog/wp-content/uploads/2014/10/blog-image-Kiwi-fruit-dollar-paid.jpg\n",
            "[!] Issue getting: https://www.amoils.com/health-blog/wp-content/uploads/2014/10/blog-image-Kiwi-fruit-dollar-paid.jpg\n",
            "[!] Error:: HTTP Error 404: Not Found\n",
            "[%] Downloading Image #6 from https://i.ytimg.com/vi/hmC1XSCOUGE/hqdefault.jpg\n",
            "[%] File Downloaded !\n",
            "\n",
            "[%] Downloading Image #7 from https://cdn0.woolworths.media/content/wowproductimages/large/267083.jpg\n",
            "[%] File Downloaded !\n",
            "\n",
            "[%] Downloading Image #8 from https://www.organicfacts.net/wp-content/uploads/kiwicancer.jpg\n",
            "[%] File Downloaded !\n",
            "\n",
            "[%] Downloading Image #9 from https://www.adventurewomen.com/wp-content/uploads/2017/08/Kiwi-Fruit.jpg\n",
            "[%] File Downloaded !\n",
            "\n",
            "[%] Downloading Image #10 from https://www.ayurtimes.com/wp-content/uploads/2014/11/Kiwi-Fruit.jpg\n",
            "[%] File Downloaded !\n",
            "\n",
            "[%] Downloading Image #11 from https://upload.wikimedia.org/wikipedia/commons/thumb/b/b8/Kiwi_%28Actinidia_chinensis%29_1_Luc_Viatour.jpg/1200px-Kiwi_%28Actinidia_chinensis%29_1_Luc_Viatour.jpg\n",
            "[%] File Downloaded !\n",
            "\n",
            "[%] Downloading Image #12 from https://cmkt-image-prd.global.ssl.fastly.net/0.1.0/ps/6107883/1820/1214/m1/fpnw/wm1/kiwiheart-.jpg?1553203641&amp;s=a2432fef0124f3540b5d4f51a812f21e\n",
            "[!] Issue getting: https://cmkt-image-prd.global.ssl.fastly.net/0.1.0/ps/6107883/1820/1214/m1/fpnw/wm1/kiwiheart-.jpg?1553203641&amp;s=a2432fef0124f3540b5d4f51a812f21e\n",
            "[!] Error:: HTTP Error 403: Forbidden\n",
            "[%] Downloading Image #12 from https://d2v4vjmuxdiocn.cloudfront.net/wp-content/uploads/kiwi-fruit-Health-Benefits.jpg\n",
            "[%] File Downloaded !\n",
            "\n",
            "[%] Downloading Image #13 from http://kiwi-fruit.info/wp-content/uploads/2015/08/kiwifruit-species.jpg\n",
            "[%] File Downloaded !\n",
            "\n",
            "[%] Downloading Image #14 from http://www.1mhealthtips.com/wp-content/uploads/2016/02/kiwi-fruit.jpg\n",
            "[%] File Downloaded !\n",
            "\n",
            "[%] Downloading Image #15 from https://www.harvesttotable.com/wp-content/uploads/2007/01/Kiwi-fruit1.jpg\n",
            "[!] Issue getting: https://www.harvesttotable.com/wp-content/uploads/2007/01/Kiwi-fruit1.jpg\n",
            "[!] Error:: HTTP Error 404: Not Found\n",
            "[%] Downloading Image #15 from https://i.ytimg.com/vi/vZSNkH7Z-ME/maxresdefault.jpg\n",
            "[%] File Downloaded !\n",
            "\n",
            "[%] Downloading Image #16 from http://1.bp.blogspot.com/_rSd_j3jEIjE/TJ8BBBg3r7I/AAAAAAAAAF8/Wv0U6FfRmOQ/s1600/kiwi+fruit.jpg\n",
            "[%] File Downloaded !\n",
            "\n",
            "[%] Downloading Image #17 from https://fthmb.tqn.com/wyHv0dcBiSkWyzICctcELBccvT0=/5754x3637/filters:fill(auto,1)/sliced-kiwi-fruit-126372349-588904b73df78caebc816b9c.jpg\n",
            "[%] File Downloaded !\n",
            "\n",
            "[%] Downloading Image #18 from http://sophieuliano.com/wp-content/uploads/2016/01/kiwifruit-1000x727.jpg\n",
            "[%] File Downloaded !\n",
            "\n",
            "[%] Downloading Image #19 from https://i0.wp.com/post.healthline.com/wp-content/uploads/2020/01/kiwi-fruit-1296x728-header.jpg?w=1155&amp;h=1528\n",
            "[%] File Downloaded !\n",
            "\n",
            "[%] Downloading Image #20 from http://2.bp.blogspot.com/_Qh8tfVA6Duc/TRzc5IR0g4I/AAAAAAAAACQ/MEhbWH7NnsQ/s1600/Kiwi+Fruit.jpg\n",
            "[%] File Downloaded !\n",
            "\n",
            "[%] Downloading Image #21 from https://sumanjsingh.files.wordpress.com/2010/06/img_5753.jpg\n",
            "[%] File Downloaded !\n",
            "\n",
            "[%] Downloading Image #22 from https://agroproducts.files.wordpress.com/2015/09/kiwifruit.jpg\n",
            "[%] File Downloaded !\n",
            "\n",
            "[%] Downloading Image #23 from https://img.thrfun.com/img/010/392/kiwis_l1.jpg\n",
            "[%] File Downloaded !\n",
            "\n",
            "[%] Downloading Image #24 from https://upload.wikimedia.org/wikipedia/commons/thumb/5/59/Kiwi1.1.jpg/220px-Kiwi1.1.jpg\n",
            "[%] File Downloaded !\n",
            "\n",
            "[%] Downloading Image #25 from https://cdn1.medicalnewstoday.com/content/images/articles/317/317776/kiwi-fruit.jpg\n",
            "[!] Issue getting: https://cdn1.medicalnewstoday.com/content/images/articles/317/317776/kiwi-fruit.jpg\n",
            "[!] Error:: <urlopen error [Errno -2] Name or service not known>\n",
            "[%] Downloading Image #25 from https://i1.wp.com/consciouslifenews.com/wp-content/uploads/2016/02/kiwi-fruit-compressed.jpg?resize=680%2C380&amp;ssl=1\n",
            "[%] File Downloaded !\n",
            "\n",
            "\n",
            "\n",
            "[!!]Indexing page: 2\n",
            "\n",
            "[%] Indexed 35 Images on Page 2.\n",
            "\n",
            "===============================================\n",
            "\n",
            "[%] Downloading Image #26 from https://health.trythis.co/wp-content/uploads/sites/2/2017/11/Kiwi-Fruit3.jpg\n",
            "[%] File Downloaded !\n",
            "\n",
            "[%] Downloading Image #27 from https://fodmap-publicsite-us-east-2.s3.amazonaws.com/production/media/images/kiwi_fruit.original.png\n",
            "[%] File Downloaded !\n",
            "\n",
            "[%] Downloading Image #28 from https://powerfoodz.files.wordpress.com/2013/08/15433078_xxl1.jpg\n",
            "[%] File Downloaded !\n",
            "\n",
            "[%] Downloading Image #29 from http://www.onlyfoods.net/wp-content/uploads/2012/06/Kiwi-Fruit.jpg\n",
            "[%] File Downloaded !\n",
            "\n",
            "[%] Downloading Image #30 from http://cdn1.medicalnewstoday.com/content/images/articles/271/271232/sliced-kiwi-fruit.jpg\n",
            "[!] Issue getting: http://cdn1.medicalnewstoday.com/content/images/articles/271/271232/sliced-kiwi-fruit.jpg\n",
            "[!] Error:: <urlopen error [Errno -2] Name or service not known>\n",
            "[%] Downloading Image #30 from https://eatwellcachecounty.files.wordpress.com/2015/02/kiwis-close-up.jpg\n",
            "[%] File Downloaded !\n",
            "\n",
            "\n",
            "\n",
            "[%] Done. Downloaded 30 images.\n",
            "\n",
            "===============================================\n",
            "\n"
          ],
          "name": "stdout"
        }
      ]
    },
    {
      "cell_type": "code",
      "metadata": {
        "id": "ca4pRqzd6zxY",
        "colab_type": "code",
        "colab": {}
      },
      "source": [
        "import os\n",
        "import numpy as np\n",
        "import pandas as pd\n",
        "import matplotlib.pyplot as plt\n",
        "from skimage.io import imread\n",
        "from skimage.transform import resize \n",
        "from sklearn.model_selection import train_test_split\n",
        "from sklearn.model_selection import GridSearchCV\n",
        "from sklearn.neighbors import KNeighborsClassifier\n",
        "from sklearn.metrics import accuracy_score,confusion_matrix,classification_report"
      ],
      "execution_count": 9,
      "outputs": []
    },
    {
      "cell_type": "code",
      "metadata": {
        "id": "qKpZqpoP65O7",
        "colab_type": "code",
        "colab": {}
      },
      "source": [
        "# Reshaping and flattening of data\n",
        "disp_pic = []\n",
        "flat_pic = []\n",
        "pic = []\n",
        "path ='/content/drive/My Drive/ML-Mini Project-August-2020/Images/pictures/'\n",
        "for dirpath, dirnames, filenames in os.walk(path):\n",
        "  for files in filenames:\n",
        "    dis = dirpath.split('/')[-1]\n",
        "    disp_pic.append(dis)\n",
        "    img = imread(f'{path}{dis}/{files}')\n",
        "    re_pic = resize(img,(100,100,3))\n",
        "    flat_pic.append(re_pic.flatten())\n",
        "    pic.append(re_pic)\n",
        "flat_pic = np.array(flat_pic)\n",
        "disp_pic = np.array(disp_pic)\n",
        "pic= np.array(pic)"
      ],
      "execution_count": 12,
      "outputs": []
    },
    {
      "cell_type": "code",
      "metadata": {
        "id": "zfNdIIvK8k2k",
        "colab_type": "code",
        "colab": {
          "base_uri": "https://localhost:8080/",
          "height": 138
        },
        "outputId": "3e1e33a4-ebe0-4c76-a413-b73fa276e63b"
      },
      "source": [
        "print(flat_pic)"
      ],
      "execution_count": 13,
      "outputs": [
        {
          "output_type": "stream",
          "text": [
            "[[0.99607843 0.99607843 0.99607843 ... 0.99607843 0.99607843 0.99607843]\n",
            " [1.         1.         1.         ... 1.         1.         1.        ]\n",
            " [0.99607843 0.99607843 0.99607843 ... 1.         1.         1.        ]\n",
            " ...\n",
            " [0.99215686 0.99215686 0.99215686 ... 0.99215686 0.99215686 0.99215686]\n",
            " [0.99215686 0.99215686 0.99215686 ... 0.99215686 0.99215686 0.99215686]\n",
            " [0.99215686 0.99215686 0.99215686 ... 0.99215686 0.99215686 0.99215686]]\n"
          ],
          "name": "stdout"
        }
      ]
    },
    {
      "cell_type": "code",
      "metadata": {
        "id": "8cxcTVus8pBa",
        "colab_type": "code",
        "colab": {
          "base_uri": "https://localhost:8080/",
          "height": 333
        },
        "outputId": "f93a35e4-fdbb-4e21-bf6a-a4842b3f1217"
      },
      "source": [
        "#Creating DataFrame\n",
        "df = pd.DataFrame(flat_pic)\n",
        "df['Output'] = disp_pic\n",
        "df.head()"
      ],
      "execution_count": 14,
      "outputs": [
        {
          "output_type": "execute_result",
          "data": {
            "text/html": [
              "<div>\n",
              "<style scoped>\n",
              "    .dataframe tbody tr th:only-of-type {\n",
              "        vertical-align: middle;\n",
              "    }\n",
              "\n",
              "    .dataframe tbody tr th {\n",
              "        vertical-align: top;\n",
              "    }\n",
              "\n",
              "    .dataframe thead th {\n",
              "        text-align: right;\n",
              "    }\n",
              "</style>\n",
              "<table border=\"1\" class=\"dataframe\">\n",
              "  <thead>\n",
              "    <tr style=\"text-align: right;\">\n",
              "      <th></th>\n",
              "      <th>0</th>\n",
              "      <th>1</th>\n",
              "      <th>2</th>\n",
              "      <th>3</th>\n",
              "      <th>4</th>\n",
              "      <th>5</th>\n",
              "      <th>6</th>\n",
              "      <th>7</th>\n",
              "      <th>8</th>\n",
              "      <th>9</th>\n",
              "      <th>10</th>\n",
              "      <th>11</th>\n",
              "      <th>12</th>\n",
              "      <th>13</th>\n",
              "      <th>14</th>\n",
              "      <th>15</th>\n",
              "      <th>16</th>\n",
              "      <th>17</th>\n",
              "      <th>18</th>\n",
              "      <th>19</th>\n",
              "      <th>20</th>\n",
              "      <th>21</th>\n",
              "      <th>22</th>\n",
              "      <th>23</th>\n",
              "      <th>24</th>\n",
              "      <th>25</th>\n",
              "      <th>26</th>\n",
              "      <th>27</th>\n",
              "      <th>28</th>\n",
              "      <th>29</th>\n",
              "      <th>30</th>\n",
              "      <th>31</th>\n",
              "      <th>32</th>\n",
              "      <th>33</th>\n",
              "      <th>34</th>\n",
              "      <th>35</th>\n",
              "      <th>36</th>\n",
              "      <th>37</th>\n",
              "      <th>38</th>\n",
              "      <th>39</th>\n",
              "      <th>...</th>\n",
              "      <th>29961</th>\n",
              "      <th>29962</th>\n",
              "      <th>29963</th>\n",
              "      <th>29964</th>\n",
              "      <th>29965</th>\n",
              "      <th>29966</th>\n",
              "      <th>29967</th>\n",
              "      <th>29968</th>\n",
              "      <th>29969</th>\n",
              "      <th>29970</th>\n",
              "      <th>29971</th>\n",
              "      <th>29972</th>\n",
              "      <th>29973</th>\n",
              "      <th>29974</th>\n",
              "      <th>29975</th>\n",
              "      <th>29976</th>\n",
              "      <th>29977</th>\n",
              "      <th>29978</th>\n",
              "      <th>29979</th>\n",
              "      <th>29980</th>\n",
              "      <th>29981</th>\n",
              "      <th>29982</th>\n",
              "      <th>29983</th>\n",
              "      <th>29984</th>\n",
              "      <th>29985</th>\n",
              "      <th>29986</th>\n",
              "      <th>29987</th>\n",
              "      <th>29988</th>\n",
              "      <th>29989</th>\n",
              "      <th>29990</th>\n",
              "      <th>29991</th>\n",
              "      <th>29992</th>\n",
              "      <th>29993</th>\n",
              "      <th>29994</th>\n",
              "      <th>29995</th>\n",
              "      <th>29996</th>\n",
              "      <th>29997</th>\n",
              "      <th>29998</th>\n",
              "      <th>29999</th>\n",
              "      <th>Output</th>\n",
              "    </tr>\n",
              "  </thead>\n",
              "  <tbody>\n",
              "    <tr>\n",
              "      <th>0</th>\n",
              "      <td>0.996078</td>\n",
              "      <td>0.996078</td>\n",
              "      <td>0.996078</td>\n",
              "      <td>0.996078</td>\n",
              "      <td>0.996078</td>\n",
              "      <td>0.996078</td>\n",
              "      <td>0.996078</td>\n",
              "      <td>0.996078</td>\n",
              "      <td>0.996078</td>\n",
              "      <td>0.996078</td>\n",
              "      <td>0.996078</td>\n",
              "      <td>0.996078</td>\n",
              "      <td>0.996078</td>\n",
              "      <td>0.996078</td>\n",
              "      <td>0.996078</td>\n",
              "      <td>0.996078</td>\n",
              "      <td>0.996078</td>\n",
              "      <td>0.996078</td>\n",
              "      <td>0.996078</td>\n",
              "      <td>0.996078</td>\n",
              "      <td>0.996078</td>\n",
              "      <td>0.996078</td>\n",
              "      <td>0.996078</td>\n",
              "      <td>0.996078</td>\n",
              "      <td>0.996078</td>\n",
              "      <td>0.996078</td>\n",
              "      <td>0.996078</td>\n",
              "      <td>0.996078</td>\n",
              "      <td>0.996078</td>\n",
              "      <td>0.996078</td>\n",
              "      <td>0.996078</td>\n",
              "      <td>0.996078</td>\n",
              "      <td>0.996078</td>\n",
              "      <td>0.996078</td>\n",
              "      <td>0.996078</td>\n",
              "      <td>0.996078</td>\n",
              "      <td>0.996078</td>\n",
              "      <td>0.996078</td>\n",
              "      <td>0.996078</td>\n",
              "      <td>0.996078</td>\n",
              "      <td>...</td>\n",
              "      <td>0.992157</td>\n",
              "      <td>0.992157</td>\n",
              "      <td>0.992157</td>\n",
              "      <td>0.992157</td>\n",
              "      <td>0.992157</td>\n",
              "      <td>0.992157</td>\n",
              "      <td>0.992157</td>\n",
              "      <td>0.992157</td>\n",
              "      <td>0.992157</td>\n",
              "      <td>0.996078</td>\n",
              "      <td>0.996078</td>\n",
              "      <td>0.996078</td>\n",
              "      <td>0.996078</td>\n",
              "      <td>0.996078</td>\n",
              "      <td>0.996078</td>\n",
              "      <td>0.996078</td>\n",
              "      <td>0.996078</td>\n",
              "      <td>0.996078</td>\n",
              "      <td>0.996078</td>\n",
              "      <td>0.996078</td>\n",
              "      <td>0.996078</td>\n",
              "      <td>0.996078</td>\n",
              "      <td>0.996078</td>\n",
              "      <td>0.996078</td>\n",
              "      <td>0.996078</td>\n",
              "      <td>0.996078</td>\n",
              "      <td>0.996078</td>\n",
              "      <td>0.996078</td>\n",
              "      <td>0.996078</td>\n",
              "      <td>0.996078</td>\n",
              "      <td>0.996078</td>\n",
              "      <td>0.996078</td>\n",
              "      <td>0.996078</td>\n",
              "      <td>0.996078</td>\n",
              "      <td>0.996078</td>\n",
              "      <td>0.996078</td>\n",
              "      <td>0.996078</td>\n",
              "      <td>0.996078</td>\n",
              "      <td>0.996078</td>\n",
              "      <td>Lemon Fruit</td>\n",
              "    </tr>\n",
              "    <tr>\n",
              "      <th>1</th>\n",
              "      <td>1.000000</td>\n",
              "      <td>1.000000</td>\n",
              "      <td>1.000000</td>\n",
              "      <td>1.000000</td>\n",
              "      <td>1.000000</td>\n",
              "      <td>1.000000</td>\n",
              "      <td>1.000000</td>\n",
              "      <td>1.000000</td>\n",
              "      <td>1.000000</td>\n",
              "      <td>1.000000</td>\n",
              "      <td>1.000000</td>\n",
              "      <td>1.000000</td>\n",
              "      <td>1.000000</td>\n",
              "      <td>1.000000</td>\n",
              "      <td>1.000000</td>\n",
              "      <td>1.000000</td>\n",
              "      <td>1.000000</td>\n",
              "      <td>1.000000</td>\n",
              "      <td>1.000000</td>\n",
              "      <td>1.000000</td>\n",
              "      <td>1.000000</td>\n",
              "      <td>1.000000</td>\n",
              "      <td>1.000000</td>\n",
              "      <td>1.000000</td>\n",
              "      <td>1.000000</td>\n",
              "      <td>1.000000</td>\n",
              "      <td>1.000000</td>\n",
              "      <td>1.000000</td>\n",
              "      <td>1.000000</td>\n",
              "      <td>1.000000</td>\n",
              "      <td>1.000000</td>\n",
              "      <td>1.000000</td>\n",
              "      <td>1.000000</td>\n",
              "      <td>1.000000</td>\n",
              "      <td>1.000000</td>\n",
              "      <td>1.000000</td>\n",
              "      <td>1.000000</td>\n",
              "      <td>1.000000</td>\n",
              "      <td>1.000000</td>\n",
              "      <td>1.000000</td>\n",
              "      <td>...</td>\n",
              "      <td>1.000000</td>\n",
              "      <td>1.000000</td>\n",
              "      <td>1.000000</td>\n",
              "      <td>1.000000</td>\n",
              "      <td>1.000000</td>\n",
              "      <td>1.000000</td>\n",
              "      <td>1.000000</td>\n",
              "      <td>1.000000</td>\n",
              "      <td>1.000000</td>\n",
              "      <td>1.000000</td>\n",
              "      <td>1.000000</td>\n",
              "      <td>1.000000</td>\n",
              "      <td>1.000000</td>\n",
              "      <td>1.000000</td>\n",
              "      <td>1.000000</td>\n",
              "      <td>1.000000</td>\n",
              "      <td>1.000000</td>\n",
              "      <td>1.000000</td>\n",
              "      <td>1.000000</td>\n",
              "      <td>1.000000</td>\n",
              "      <td>1.000000</td>\n",
              "      <td>1.000000</td>\n",
              "      <td>1.000000</td>\n",
              "      <td>1.000000</td>\n",
              "      <td>1.000000</td>\n",
              "      <td>1.000000</td>\n",
              "      <td>1.000000</td>\n",
              "      <td>1.000000</td>\n",
              "      <td>1.000000</td>\n",
              "      <td>1.000000</td>\n",
              "      <td>1.000000</td>\n",
              "      <td>1.000000</td>\n",
              "      <td>1.000000</td>\n",
              "      <td>1.000000</td>\n",
              "      <td>1.000000</td>\n",
              "      <td>1.000000</td>\n",
              "      <td>1.000000</td>\n",
              "      <td>1.000000</td>\n",
              "      <td>1.000000</td>\n",
              "      <td>Lemon Fruit</td>\n",
              "    </tr>\n",
              "    <tr>\n",
              "      <th>2</th>\n",
              "      <td>0.996078</td>\n",
              "      <td>0.996078</td>\n",
              "      <td>0.996078</td>\n",
              "      <td>0.996078</td>\n",
              "      <td>0.996078</td>\n",
              "      <td>0.996078</td>\n",
              "      <td>0.996078</td>\n",
              "      <td>0.996078</td>\n",
              "      <td>0.996078</td>\n",
              "      <td>0.996078</td>\n",
              "      <td>0.996078</td>\n",
              "      <td>0.996078</td>\n",
              "      <td>0.996078</td>\n",
              "      <td>0.996078</td>\n",
              "      <td>0.996078</td>\n",
              "      <td>1.000000</td>\n",
              "      <td>1.000000</td>\n",
              "      <td>1.000000</td>\n",
              "      <td>1.000000</td>\n",
              "      <td>1.000000</td>\n",
              "      <td>1.000000</td>\n",
              "      <td>1.000000</td>\n",
              "      <td>1.000000</td>\n",
              "      <td>1.000000</td>\n",
              "      <td>0.996078</td>\n",
              "      <td>0.996078</td>\n",
              "      <td>0.996078</td>\n",
              "      <td>0.996078</td>\n",
              "      <td>0.996078</td>\n",
              "      <td>0.996078</td>\n",
              "      <td>0.996078</td>\n",
              "      <td>0.996078</td>\n",
              "      <td>0.996078</td>\n",
              "      <td>0.996078</td>\n",
              "      <td>0.996078</td>\n",
              "      <td>0.996078</td>\n",
              "      <td>1.000000</td>\n",
              "      <td>1.000000</td>\n",
              "      <td>1.000000</td>\n",
              "      <td>1.000000</td>\n",
              "      <td>...</td>\n",
              "      <td>1.000000</td>\n",
              "      <td>1.000000</td>\n",
              "      <td>1.000000</td>\n",
              "      <td>1.000000</td>\n",
              "      <td>1.000000</td>\n",
              "      <td>1.000000</td>\n",
              "      <td>1.000000</td>\n",
              "      <td>1.000000</td>\n",
              "      <td>1.000000</td>\n",
              "      <td>1.000000</td>\n",
              "      <td>1.000000</td>\n",
              "      <td>1.000000</td>\n",
              "      <td>1.000000</td>\n",
              "      <td>1.000000</td>\n",
              "      <td>1.000000</td>\n",
              "      <td>1.000000</td>\n",
              "      <td>1.000000</td>\n",
              "      <td>1.000000</td>\n",
              "      <td>1.000000</td>\n",
              "      <td>1.000000</td>\n",
              "      <td>1.000000</td>\n",
              "      <td>1.000000</td>\n",
              "      <td>1.000000</td>\n",
              "      <td>1.000000</td>\n",
              "      <td>1.000000</td>\n",
              "      <td>1.000000</td>\n",
              "      <td>1.000000</td>\n",
              "      <td>1.000000</td>\n",
              "      <td>1.000000</td>\n",
              "      <td>1.000000</td>\n",
              "      <td>1.000000</td>\n",
              "      <td>1.000000</td>\n",
              "      <td>1.000000</td>\n",
              "      <td>1.000000</td>\n",
              "      <td>1.000000</td>\n",
              "      <td>1.000000</td>\n",
              "      <td>1.000000</td>\n",
              "      <td>1.000000</td>\n",
              "      <td>1.000000</td>\n",
              "      <td>Lemon Fruit</td>\n",
              "    </tr>\n",
              "    <tr>\n",
              "      <th>3</th>\n",
              "      <td>1.000000</td>\n",
              "      <td>1.000000</td>\n",
              "      <td>1.000000</td>\n",
              "      <td>1.000000</td>\n",
              "      <td>1.000000</td>\n",
              "      <td>1.000000</td>\n",
              "      <td>1.000000</td>\n",
              "      <td>1.000000</td>\n",
              "      <td>1.000000</td>\n",
              "      <td>1.000000</td>\n",
              "      <td>1.000000</td>\n",
              "      <td>1.000000</td>\n",
              "      <td>1.000000</td>\n",
              "      <td>1.000000</td>\n",
              "      <td>1.000000</td>\n",
              "      <td>1.000000</td>\n",
              "      <td>1.000000</td>\n",
              "      <td>1.000000</td>\n",
              "      <td>1.000000</td>\n",
              "      <td>1.000000</td>\n",
              "      <td>1.000000</td>\n",
              "      <td>1.000000</td>\n",
              "      <td>1.000000</td>\n",
              "      <td>1.000000</td>\n",
              "      <td>1.000000</td>\n",
              "      <td>1.000000</td>\n",
              "      <td>1.000000</td>\n",
              "      <td>1.000000</td>\n",
              "      <td>1.000000</td>\n",
              "      <td>1.000000</td>\n",
              "      <td>1.000000</td>\n",
              "      <td>1.000000</td>\n",
              "      <td>1.000000</td>\n",
              "      <td>1.000000</td>\n",
              "      <td>1.000000</td>\n",
              "      <td>1.000000</td>\n",
              "      <td>1.000000</td>\n",
              "      <td>1.000000</td>\n",
              "      <td>1.000000</td>\n",
              "      <td>1.000000</td>\n",
              "      <td>...</td>\n",
              "      <td>1.000000</td>\n",
              "      <td>1.000000</td>\n",
              "      <td>1.000000</td>\n",
              "      <td>1.000000</td>\n",
              "      <td>1.000000</td>\n",
              "      <td>1.000000</td>\n",
              "      <td>1.000000</td>\n",
              "      <td>1.000000</td>\n",
              "      <td>1.000000</td>\n",
              "      <td>1.000000</td>\n",
              "      <td>1.000000</td>\n",
              "      <td>1.000000</td>\n",
              "      <td>1.000000</td>\n",
              "      <td>1.000000</td>\n",
              "      <td>1.000000</td>\n",
              "      <td>1.000000</td>\n",
              "      <td>1.000000</td>\n",
              "      <td>1.000000</td>\n",
              "      <td>1.000000</td>\n",
              "      <td>1.000000</td>\n",
              "      <td>1.000000</td>\n",
              "      <td>1.000000</td>\n",
              "      <td>1.000000</td>\n",
              "      <td>1.000000</td>\n",
              "      <td>1.000000</td>\n",
              "      <td>1.000000</td>\n",
              "      <td>1.000000</td>\n",
              "      <td>1.000000</td>\n",
              "      <td>1.000000</td>\n",
              "      <td>1.000000</td>\n",
              "      <td>1.000000</td>\n",
              "      <td>1.000000</td>\n",
              "      <td>1.000000</td>\n",
              "      <td>1.000000</td>\n",
              "      <td>1.000000</td>\n",
              "      <td>1.000000</td>\n",
              "      <td>1.000000</td>\n",
              "      <td>1.000000</td>\n",
              "      <td>1.000000</td>\n",
              "      <td>Lemon Fruit</td>\n",
              "    </tr>\n",
              "    <tr>\n",
              "      <th>4</th>\n",
              "      <td>0.996078</td>\n",
              "      <td>0.996078</td>\n",
              "      <td>0.996078</td>\n",
              "      <td>0.996078</td>\n",
              "      <td>0.996078</td>\n",
              "      <td>0.996078</td>\n",
              "      <td>0.996078</td>\n",
              "      <td>0.996078</td>\n",
              "      <td>0.996078</td>\n",
              "      <td>0.996078</td>\n",
              "      <td>0.996078</td>\n",
              "      <td>0.996078</td>\n",
              "      <td>0.996078</td>\n",
              "      <td>0.996078</td>\n",
              "      <td>0.996078</td>\n",
              "      <td>0.996078</td>\n",
              "      <td>0.996078</td>\n",
              "      <td>0.996078</td>\n",
              "      <td>0.996078</td>\n",
              "      <td>0.996078</td>\n",
              "      <td>0.996078</td>\n",
              "      <td>0.996078</td>\n",
              "      <td>0.996078</td>\n",
              "      <td>0.996078</td>\n",
              "      <td>0.996078</td>\n",
              "      <td>0.996078</td>\n",
              "      <td>0.996078</td>\n",
              "      <td>0.996078</td>\n",
              "      <td>0.996078</td>\n",
              "      <td>0.996078</td>\n",
              "      <td>0.996078</td>\n",
              "      <td>0.996078</td>\n",
              "      <td>0.996078</td>\n",
              "      <td>0.996078</td>\n",
              "      <td>0.996078</td>\n",
              "      <td>0.996078</td>\n",
              "      <td>0.996078</td>\n",
              "      <td>0.996078</td>\n",
              "      <td>0.996078</td>\n",
              "      <td>0.996078</td>\n",
              "      <td>...</td>\n",
              "      <td>0.996078</td>\n",
              "      <td>0.996078</td>\n",
              "      <td>0.996078</td>\n",
              "      <td>0.996078</td>\n",
              "      <td>0.996078</td>\n",
              "      <td>0.996078</td>\n",
              "      <td>0.996078</td>\n",
              "      <td>0.996078</td>\n",
              "      <td>0.996078</td>\n",
              "      <td>0.996078</td>\n",
              "      <td>0.996078</td>\n",
              "      <td>0.996078</td>\n",
              "      <td>0.996078</td>\n",
              "      <td>0.996078</td>\n",
              "      <td>0.996078</td>\n",
              "      <td>0.996078</td>\n",
              "      <td>0.996078</td>\n",
              "      <td>0.996078</td>\n",
              "      <td>0.996078</td>\n",
              "      <td>0.996078</td>\n",
              "      <td>0.996078</td>\n",
              "      <td>0.996078</td>\n",
              "      <td>0.996078</td>\n",
              "      <td>0.996078</td>\n",
              "      <td>0.996078</td>\n",
              "      <td>0.996078</td>\n",
              "      <td>0.996078</td>\n",
              "      <td>0.996078</td>\n",
              "      <td>0.996078</td>\n",
              "      <td>0.996078</td>\n",
              "      <td>0.996078</td>\n",
              "      <td>0.996078</td>\n",
              "      <td>0.996078</td>\n",
              "      <td>0.996078</td>\n",
              "      <td>0.996078</td>\n",
              "      <td>0.996078</td>\n",
              "      <td>0.996078</td>\n",
              "      <td>0.996078</td>\n",
              "      <td>0.996078</td>\n",
              "      <td>Lemon Fruit</td>\n",
              "    </tr>\n",
              "  </tbody>\n",
              "</table>\n",
              "<p>5 rows × 30001 columns</p>\n",
              "</div>"
            ],
            "text/plain": [
              "          0         1         2  ...     29998     29999       Output\n",
              "0  0.996078  0.996078  0.996078  ...  0.996078  0.996078  Lemon Fruit\n",
              "1  1.000000  1.000000  1.000000  ...  1.000000  1.000000  Lemon Fruit\n",
              "2  0.996078  0.996078  0.996078  ...  1.000000  1.000000  Lemon Fruit\n",
              "3  1.000000  1.000000  1.000000  ...  1.000000  1.000000  Lemon Fruit\n",
              "4  0.996078  0.996078  0.996078  ...  0.996078  0.996078  Lemon Fruit\n",
              "\n",
              "[5 rows x 30001 columns]"
            ]
          },
          "metadata": {
            "tags": []
          },
          "execution_count": 14
        }
      ]
    },
    {
      "cell_type": "code",
      "metadata": {
        "id": "g23O0e_B9cbn",
        "colab_type": "code",
        "colab": {
          "base_uri": "https://localhost:8080/",
          "height": 69
        },
        "outputId": "9584f549-dc88-4fc5-9d7b-aa7b21799ac2"
      },
      "source": [
        "df['Output'].value_counts()"
      ],
      "execution_count": 15,
      "outputs": [
        {
          "output_type": "execute_result",
          "data": {
            "text/plain": [
              "Kiwi Fruit     30\n",
              "Lemon Fruit    30\n",
              "Name: Output, dtype: int64"
            ]
          },
          "metadata": {
            "tags": []
          },
          "execution_count": 15
        }
      ]
    },
    {
      "cell_type": "code",
      "metadata": {
        "id": "P4T6xgsJ9iAI",
        "colab_type": "code",
        "colab": {}
      },
      "source": [
        "# Training and testing data.\n",
        "x = df.drop('Output',axis=1).values\n",
        "y = df['Output'].values"
      ],
      "execution_count": 17,
      "outputs": []
    },
    {
      "cell_type": "code",
      "metadata": {
        "id": "5zDRIwaU-FNw",
        "colab_type": "code",
        "colab": {}
      },
      "source": [
        "x_train,x_test,y_train,y_test = train_test_split(x,y,random_state = 0)"
      ],
      "execution_count": 18,
      "outputs": []
    },
    {
      "cell_type": "code",
      "metadata": {
        "id": "_TqMBxvo-M6t",
        "colab_type": "code",
        "colab": {
          "base_uri": "https://localhost:8080/",
          "height": 244
        },
        "outputId": "c19297d2-5043-4d95-bcaa-00034aabeb5d"
      },
      "source": [
        "# Using gridsearch_cv for best param.\n",
        "param= {'n_neighbors':np.arange(1,48)}\n",
        "model = KNeighborsClassifier()\n",
        "model_cv = GridSearchCV(model,param)\n",
        "model_cv.fit(x,y)"
      ],
      "execution_count": 19,
      "outputs": [
        {
          "output_type": "execute_result",
          "data": {
            "text/plain": [
              "GridSearchCV(cv=None, error_score=nan,\n",
              "             estimator=KNeighborsClassifier(algorithm='auto', leaf_size=30,\n",
              "                                            metric='minkowski',\n",
              "                                            metric_params=None, n_jobs=None,\n",
              "                                            n_neighbors=5, p=2,\n",
              "                                            weights='uniform'),\n",
              "             iid='deprecated', n_jobs=None,\n",
              "             param_grid={'n_neighbors': array([ 1,  2,  3,  4,  5,  6,  7,  8,  9, 10, 11, 12, 13, 14, 15, 16, 17,\n",
              "       18, 19, 20, 21, 22, 23, 24, 25, 26, 27, 28, 29, 30, 31, 32, 33, 34,\n",
              "       35, 36, 37, 38, 39, 40, 41, 42, 43, 44, 45, 46, 47])},\n",
              "             pre_dispatch='2*n_jobs', refit=True, return_train_score=False,\n",
              "             scoring=None, verbose=0)"
            ]
          },
          "metadata": {
            "tags": []
          },
          "execution_count": 19
        }
      ]
    },
    {
      "cell_type": "code",
      "metadata": {
        "id": "tjU23HgH-pvN",
        "colab_type": "code",
        "colab": {
          "base_uri": "https://localhost:8080/",
          "height": 34
        },
        "outputId": "94c6e0e3-1020-4dc9-cd28-9bf1a40d1d97"
      },
      "source": [
        "model_cv.best_params_"
      ],
      "execution_count": 20,
      "outputs": [
        {
          "output_type": "execute_result",
          "data": {
            "text/plain": [
              "{'n_neighbors': 1}"
            ]
          },
          "metadata": {
            "tags": []
          },
          "execution_count": 20
        }
      ]
    },
    {
      "cell_type": "code",
      "metadata": {
        "id": "0eYfd7x5-qmy",
        "colab_type": "code",
        "colab": {
          "base_uri": "https://localhost:8080/",
          "height": 69
        },
        "outputId": "f5eddcfd-1be1-4c77-c025-39f89160c61f"
      },
      "source": [
        "model = KNeighborsClassifier(n_neighbors=1)\n",
        "model.fit(x_train,y_train)"
      ],
      "execution_count": 21,
      "outputs": [
        {
          "output_type": "execute_result",
          "data": {
            "text/plain": [
              "KNeighborsClassifier(algorithm='auto', leaf_size=30, metric='minkowski',\n",
              "                     metric_params=None, n_jobs=None, n_neighbors=1, p=2,\n",
              "                     weights='uniform')"
            ]
          },
          "metadata": {
            "tags": []
          },
          "execution_count": 21
        }
      ]
    },
    {
      "cell_type": "code",
      "metadata": {
        "id": "XvaBHWJY-0al",
        "colab_type": "code",
        "colab": {
          "base_uri": "https://localhost:8080/",
          "height": 86
        },
        "outputId": "f6bfd322-b6c1-4831-b0d5-eb9b6cd785d2"
      },
      "source": [
        "y_pred= model.predict(x_test)\n",
        "y_pred"
      ],
      "execution_count": 22,
      "outputs": [
        {
          "output_type": "execute_result",
          "data": {
            "text/plain": [
              "array(['Lemon Fruit', 'Kiwi Fruit', 'Kiwi Fruit', 'Lemon Fruit',\n",
              "       'Lemon Fruit', 'Lemon Fruit', 'Kiwi Fruit', 'Kiwi Fruit',\n",
              "       'Lemon Fruit', 'Lemon Fruit', 'Lemon Fruit', 'Kiwi Fruit',\n",
              "       'Kiwi Fruit', 'Kiwi Fruit', 'Kiwi Fruit'], dtype=object)"
            ]
          },
          "metadata": {
            "tags": []
          },
          "execution_count": 22
        }
      ]
    },
    {
      "cell_type": "code",
      "metadata": {
        "id": "Fuh98hkw-62E",
        "colab_type": "code",
        "colab": {
          "base_uri": "https://localhost:8080/",
          "height": 86
        },
        "outputId": "e0f8c8d9-b5a2-449f-8739-9c04945a3add"
      },
      "source": [
        "y_test"
      ],
      "execution_count": 23,
      "outputs": [
        {
          "output_type": "execute_result",
          "data": {
            "text/plain": [
              "array(['Lemon Fruit', 'Kiwi Fruit', 'Kiwi Fruit', 'Lemon Fruit',\n",
              "       'Lemon Fruit', 'Lemon Fruit', 'Kiwi Fruit', 'Kiwi Fruit',\n",
              "       'Kiwi Fruit', 'Lemon Fruit', 'Lemon Fruit', 'Lemon Fruit',\n",
              "       'Kiwi Fruit', 'Kiwi Fruit', 'Kiwi Fruit'], dtype=object)"
            ]
          },
          "metadata": {
            "tags": []
          },
          "execution_count": 23
        }
      ]
    },
    {
      "cell_type": "code",
      "metadata": {
        "id": "wPas299Q_APN",
        "colab_type": "code",
        "colab": {
          "base_uri": "https://localhost:8080/",
          "height": 34
        },
        "outputId": "0d133fac-f312-444e-b331-e3caf799d144"
      },
      "source": [
        "# Knowing the accuracy of the model.\n",
        "accuracy_score(y_test,y_pred)"
      ],
      "execution_count": 24,
      "outputs": [
        {
          "output_type": "execute_result",
          "data": {
            "text/plain": [
              "0.8666666666666667"
            ]
          },
          "metadata": {
            "tags": []
          },
          "execution_count": 24
        }
      ]
    },
    {
      "cell_type": "code",
      "metadata": {
        "id": "XE08yYS0_JCi",
        "colab_type": "code",
        "colab": {
          "base_uri": "https://localhost:8080/",
          "height": 52
        },
        "outputId": "eff78c22-606c-459a-9235-77028b7d7bc9"
      },
      "source": [
        "confusion_matrix(y_test,y_pred)"
      ],
      "execution_count": 25,
      "outputs": [
        {
          "output_type": "execute_result",
          "data": {
            "text/plain": [
              "array([[7, 1],\n",
              "       [1, 6]])"
            ]
          },
          "metadata": {
            "tags": []
          },
          "execution_count": 25
        }
      ]
    },
    {
      "cell_type": "code",
      "metadata": {
        "id": "UwlbCltR_UeU",
        "colab_type": "code",
        "colab": {
          "base_uri": "https://localhost:8080/",
          "height": 168
        },
        "outputId": "61e1e5c3-8ba1-403f-d739-d81556c7d03a"
      },
      "source": [
        "pd.crosstab(y_test,y_pred, rownames=['Actual'], colnames=['Predicted'], margins=True)"
      ],
      "execution_count": 29,
      "outputs": [
        {
          "output_type": "execute_result",
          "data": {
            "text/html": [
              "<div>\n",
              "<style scoped>\n",
              "    .dataframe tbody tr th:only-of-type {\n",
              "        vertical-align: middle;\n",
              "    }\n",
              "\n",
              "    .dataframe tbody tr th {\n",
              "        vertical-align: top;\n",
              "    }\n",
              "\n",
              "    .dataframe thead th {\n",
              "        text-align: right;\n",
              "    }\n",
              "</style>\n",
              "<table border=\"1\" class=\"dataframe\">\n",
              "  <thead>\n",
              "    <tr style=\"text-align: right;\">\n",
              "      <th>Predicted</th>\n",
              "      <th>Kiwi Fruit</th>\n",
              "      <th>Lemon Fruit</th>\n",
              "      <th>All</th>\n",
              "    </tr>\n",
              "    <tr>\n",
              "      <th>Actual</th>\n",
              "      <th></th>\n",
              "      <th></th>\n",
              "      <th></th>\n",
              "    </tr>\n",
              "  </thead>\n",
              "  <tbody>\n",
              "    <tr>\n",
              "      <th>Kiwi Fruit</th>\n",
              "      <td>7</td>\n",
              "      <td>1</td>\n",
              "      <td>8</td>\n",
              "    </tr>\n",
              "    <tr>\n",
              "      <th>Lemon Fruit</th>\n",
              "      <td>1</td>\n",
              "      <td>6</td>\n",
              "      <td>7</td>\n",
              "    </tr>\n",
              "    <tr>\n",
              "      <th>All</th>\n",
              "      <td>8</td>\n",
              "      <td>7</td>\n",
              "      <td>15</td>\n",
              "    </tr>\n",
              "  </tbody>\n",
              "</table>\n",
              "</div>"
            ],
            "text/plain": [
              "Predicted    Kiwi Fruit  Lemon Fruit  All\n",
              "Actual                                   \n",
              "Kiwi Fruit            7            1    8\n",
              "Lemon Fruit           1            6    7\n",
              "All                   8            7   15"
            ]
          },
          "metadata": {
            "tags": []
          },
          "execution_count": 29
        }
      ]
    },
    {
      "cell_type": "code",
      "metadata": {
        "id": "v0gwcy8h_d4u",
        "colab_type": "code",
        "colab": {
          "base_uri": "https://localhost:8080/",
          "height": 173
        },
        "outputId": "764bc0cc-a221-401f-f490-f7b69a40b44c"
      },
      "source": [
        "print(classification_report(y_test,y_pred))\n"
      ],
      "execution_count": 30,
      "outputs": [
        {
          "output_type": "stream",
          "text": [
            "              precision    recall  f1-score   support\n",
            "\n",
            "  Kiwi Fruit       0.88      0.88      0.88         8\n",
            " Lemon Fruit       0.86      0.86      0.86         7\n",
            "\n",
            "    accuracy                           0.87        15\n",
            "   macro avg       0.87      0.87      0.87        15\n",
            "weighted avg       0.87      0.87      0.87        15\n",
            "\n"
          ],
          "name": "stdout"
        }
      ]
    },
    {
      "cell_type": "code",
      "metadata": {
        "id": "1lVR_HISAskS",
        "colab_type": "code",
        "colab": {
          "base_uri": "https://localhost:8080/",
          "height": 286
        },
        "outputId": "722d657f-0920-41b3-d3de-0d67eee0cddb"
      },
      "source": [
        "#Predicting for any new image\n",
        "fl = []\n",
        "i = imread('https://img.thrfun.com/img/010/392/kiwis_l1.jpg')\n",
        "re= resize(i,(100,100,3))\n",
        "fl.append(re.flatten())\n",
        "fl = np.array(fl)\n",
        "plt.imshow(i)\n",
        "y_pred = model.predict(fl)\n",
        "y_pred"
      ],
      "execution_count": 33,
      "outputs": [
        {
          "output_type": "execute_result",
          "data": {
            "text/plain": [
              "array(['Kiwi Fruit'], dtype=object)"
            ]
          },
          "metadata": {
            "tags": []
          },
          "execution_count": 33
        },
        {
          "output_type": "display_data",
          "data": {
            "image/png": "[encoded data removed]",
            "text/plain": [
              "<Figure size 432x288 with 1 Axes>"
            ]
          },
          "metadata": {
            "tags": [],
            "needs_background": "light"
          }
        }
      ]
    },
    {
      "cell_type": "code",
      "metadata": {
        "id": "KwPbh-y5AzE3",
        "colab_type": "code",
        "colab": {}
      },
      "source": [
        ""
      ],
      "execution_count": null,
      "outputs": []
    }
  ]
}